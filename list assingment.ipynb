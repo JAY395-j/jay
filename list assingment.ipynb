{
 "cells": [
  {
   "cell_type": "code",
   "execution_count": 1,
   "id": "aa52c33f-4651-42fb-b032-80a911e29916",
   "metadata": {},
   "outputs": [
    {
     "name": "stdout",
     "output_type": "stream",
     "text": [
      "odd numbers [1, 3, 5]\n",
      "even number [2, 4, 6]\n"
     ]
    }
   ],
   "source": [
    "l=[1,2,3,4,5,6]\n",
    "l1=[i for i in l if i %2!=0]\n",
    "l2=[i for i in l if i %2==0 ]\n",
    "print(\"odd numbers\",l1)\n",
    "print('even number',l2)"
   ]
  },
  {
   "cell_type": "code",
   "execution_count": 6,
   "id": "019cc749-3a59-4570-857b-2d69fe7c68b7",
   "metadata": {},
   "outputs": [
    {
     "name": "stdin",
     "output_type": "stream",
     "text": [
      "enter number of elements : 5\n",
      " 1\n",
      " 2\n",
      " 3\n",
      " 4\n",
      " 5\n"
     ]
    },
    {
     "name": "stdout",
     "output_type": "stream",
     "text": [
      "[1, 2, 3, 4, 5]\n"
     ]
    }
   ],
   "source": [
    "lst=[]\n",
    "n=int(input(\"enter number of elements :\"))\n",
    "for i in range(0,n):\n",
    "    ele=int(input())\n",
    "    lst.append(ele)\n",
    "print(lst)"
   ]
  },
  {
   "cell_type": "code",
   "execution_count": 7,
   "id": "2c288994-d13f-4a0e-83e0-ae1c6b24cbe4",
   "metadata": {},
   "outputs": [
    {
     "name": "stdout",
     "output_type": "stream",
     "text": [
      "[1, 2, 3, 4, 5, 6, 7, 8]\n"
     ]
    }
   ],
   "source": [
    "l1=[1,2,3,4]\n",
    "l2=[5,6,7,8]\n",
    "l1.extend(l2)\n",
    "print(l1)"
   ]
  },
  {
   "cell_type": "code",
   "execution_count": 1,
   "id": "e91f57b1-9b49-44f2-9a03-bf07278b650a",
   "metadata": {},
   "outputs": [
    {
     "name": "stdout",
     "output_type": "stream",
     "text": [
      "[1, 2, 300, 4, 5, 300]\n"
     ]
    }
   ],
   "source": [
    "l1=[1,2,3,4,5,3]\n",
    "replacement_item=300\n",
    "for i in range(len(l1)):\n",
    "    if l1[i]==3:\n",
    "        l1[i]= replacement_item\n",
    "print(l1)\n",
    "      "
   ]
  },
  {
   "cell_type": "code",
   "execution_count": 3,
   "id": "4ea2f5b7-9eea-4207-8405-31811672bc59",
   "metadata": {},
   "outputs": [
    {
     "name": "stdout",
     "output_type": "stream",
     "text": [
      "1d_list: [1, 2, 3, 4, 5, 6, 7, 8, 9]\n"
     ]
    }
   ],
   "source": [
    "td_list=[[1,2,3],[4,5,6],[7,8,9]]\n",
    "new_list=sum(td_list,[])\n",
    "print(\"1d_list:\",new_list)"
   ]
  },
  {
   "cell_type": "code",
   "execution_count": 6,
   "id": "278d57c7-6a78-405d-98b9-b42319e629d3",
   "metadata": {},
   "outputs": [
    {
     "name": "stdout",
     "output_type": "stream",
     "text": [
      " the new list are: [1, 2, 3, 4, 5]\n"
     ]
    }
   ],
   "source": [
    "L=[1,2,1,2,3,4,5,3,4]\n",
    "new_list=list(set(L))\n",
    "print(\" the new list are:\",new_list)"
   ]
  },
  {
   "cell_type": "code",
   "execution_count": 10,
   "id": "abb87aa6-2f11-44ca-a265-7f3c215b52c4",
   "metadata": {},
   "outputs": [
    {
     "name": "stdout",
     "output_type": "stream",
     "text": [
      "the list is sorted\n"
     ]
    }
   ],
   "source": [
    "test_list=[1,4,5,8,10]\n",
    "is_sorted=all(a<=b for a,b in zip(test_list,test_list[1:]))\n",
    "\n",
    "if sorted:\n",
    "    print(\"the list is sorted\")\n",
    "else:\n",
    "    print(\"the list is not sorted\")"
   ]
  },
  {
   "cell_type": "code",
   "execution_count": null,
   "id": "d4d0d604-f427-45d4-aaf3-c658fb0bb50a",
   "metadata": {},
   "outputs": [],
   "source": []
  }
 ],
 "metadata": {
  "kernelspec": {
   "display_name": "Python 3 (ipykernel)",
   "language": "python",
   "name": "python3"
  },
  "language_info": {
   "codemirror_mode": {
    "name": "ipython",
    "version": 3
   },
   "file_extension": ".py",
   "mimetype": "text/x-python",
   "name": "python",
   "nbconvert_exporter": "python",
   "pygments_lexer": "ipython3",
   "version": "3.11.7"
  }
 },
 "nbformat": 4,
 "nbformat_minor": 5
}
